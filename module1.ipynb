{
 "cells": [
  {
   "cell_type": "markdown",
   "metadata": {},
   "source": [
    "## Importing the neccessary libraries "
   ]
  },
  {
   "cell_type": "code",
   "execution_count": 1,
   "metadata": {},
   "outputs": [],
   "source": [
    "import speech_recognition as sr\n",
    "import pyttsx3"
   ]
  },
  {
   "cell_type": "code",
   "execution_count": 2,
   "metadata": {},
   "outputs": [],
   "source": [
    "r = sr.Recognizer()"
   ]
  },
  {
   "cell_type": "markdown",
   "metadata": {},
   "source": [
    "## Now we are going to record the audio and convert this audio file into a text file"
   ]
  },
  {
   "cell_type": "code",
   "execution_count": 3,
   "metadata": {},
   "outputs": [
    {
     "name": "stdout",
     "output_type": "stream",
     "text": [
      "Recording...\n",
      "Recording finished.\n",
      "Audio recorded and saved as recorded_audio.wav\n",
      "Google Speech Recognition could not understand the audio\n"
     ]
    }
   ],
   "source": [
    "import pyaudio\n",
    "import wave\n",
    "import speech_recognition as sr\n",
    "import pyttsx3\n",
    "### Initializing The Recognizer\n",
    "r = sr.Recognizer()\n",
    "# Parameters\n",
    "FORMAT = pyaudio.paInt16  # Audio format\n",
    "CHANNELS = 1  # Number of channels\n",
    "RATE = 44100  # Sample rate (Hz)\n",
    "CHUNK = 1024  # Chunk size (number of frames per buffer)\n",
    "RECORD_SECONDS = 10  # Duration of the recording (seconds)\n",
    "OUTPUT_FILENAME = \"recorded_audio.wav\"  # Output filename\n",
    "\n",
    "try:\n",
    "    # Initialize PyAudio\n",
    "    audio = pyaudio.PyAudio()\n",
    "\n",
    "    # Open stream\n",
    "    stream = audio.open(format=FORMAT, channels=CHANNELS,\n",
    "                        rate=RATE, input=True,\n",
    "                        frames_per_buffer=CHUNK)\n",
    "\n",
    "    print(\"Recording...\")\n",
    "\n",
    "    frames = []\n",
    "\n",
    "    # Record data\n",
    "    for i in range(0, int(RATE / CHUNK * RECORD_SECONDS)):\n",
    "        data = stream.read(CHUNK)\n",
    "        frames.append(data)\n",
    "\n",
    "    print(\"Recording finished.\")\n",
    "\n",
    "    # Stop and close the stream\n",
    "    stream.stop_stream()\n",
    "    stream.close()\n",
    "    audio.terminate()\n",
    "\n",
    "    # Save the recorded data as a WAV file\n",
    "    with wave.open(OUTPUT_FILENAME, 'wb') as wf:\n",
    "        wf.setnchannels(CHANNELS)\n",
    "        wf.setsampwidth(audio.get_sample_size(FORMAT))\n",
    "        wf.setframerate(RATE)\n",
    "        wf.writeframes(b''.join(frames))\n",
    "\n",
    "    print(f\"Audio recorded and saved as {OUTPUT_FILENAME}\")\n",
    "    with sr.AudioFile(OUTPUT_FILENAME) as source:\n",
    "        audio = r.record(source)  # Read the entire audio file\n",
    "\n",
    "        try:\n",
    "            # Recognize the speech using Google Web Speech API\n",
    "            text = r.recognize_google(audio)\n",
    "            print(\"Transcription: \" + text)\n",
    "            # Append the transcription to a text file\n",
    "            with open(\"transcription.txt\", \"a\") as f:\n",
    "                f.write(text + \"\\n\")\n",
    "            # Save the transcription to a text file\n",
    "            with open(\"transcription.txt\", \"w\") as f:\n",
    "                f.write(text)\n",
    "                \n",
    "        except sr.UnknownValueError:\n",
    "            print(\"Google Speech Recognition could not understand the audio\")\n",
    "        except sr.RequestError as e:\n",
    "            print(\"Could not request results from Google Speech Recognition service; {0}\".format(e))\n",
    "except OSError as e:\n",
    "    print(f\"OSError encountered: {e}\")"
   ]
  },
  {
   "cell_type": "markdown",
   "metadata": {},
   "source": [
    "updated for continuos recording"
   ]
  },
  {
   "cell_type": "code",
   "execution_count": 3,
   "metadata": {},
   "outputs": [
    {
     "name": "stdout",
     "output_type": "stream",
     "text": [
      "Recording...\n",
      "Google Speech Recognition could not understand the audio\n",
      "Google Speech Recognition could not understand the audio\n",
      "Google Speech Recognition could not understand the audio\n",
      "Google Speech Recognition could not understand the audio\n",
      "Google Speech Recognition could not understand the audio\n",
      "Google Speech Recognition could not understand the audio\n",
      "Google Speech Recognition could not understand the audio\n",
      "Google Speech Recognition could not understand the audio\n",
      "Google Speech Recognition could not understand the audio\n",
      "Google Speech Recognition could not understand the audio\n",
      "Google Speech Recognition could not understand the audio\n",
      "Interrupt received, stopping...\n"
     ]
    },
    {
     "ename": "SystemExit",
     "evalue": "0",
     "output_type": "error",
     "traceback": [
      "An exception has occurred, use %tb to see the full traceback.\n",
      "\u001b[1;31mSystemExit\u001b[0m\u001b[1;31m:\u001b[0m 0\n"
     ]
    },
    {
     "name": "stderr",
     "output_type": "stream",
     "text": [
      "c:\\Users\\Lenovo\\Documents\\Rohit\\.venv\\lib\\site-packages\\IPython\\core\\interactiveshell.py:3585: UserWarning: To exit: use 'exit', 'quit', or Ctrl-D.\n",
      "  warn(\"To exit: use 'exit', 'quit', or Ctrl-D.\", stacklevel=1)\n"
     ]
    }
   ],
   "source": [
    "import pyaudio\n",
    "import wave\n",
    "import speech_recognition as sr\n",
    "import threading\n",
    "import signal\n",
    "import sys\n",
    "\n",
    "# Initializing The Recognizer\n",
    "r = sr.Recognizer()\n",
    "\n",
    "# Parameters\n",
    "FORMAT = pyaudio.paInt16  # Audio format\n",
    "CHANNELS = 1  # Number of channels\n",
    "RATE = 44100  # Sample rate (Hz)\n",
    "CHUNK = 1024  # Chunk size (number of frames per buffer)\n",
    "OUTPUT_FILENAME = \"recorded_audio.wav\"  # Output filename\n",
    "\n",
    "stop_event = threading.Event()\n",
    "\n",
    "def record_and_transcribe():\n",
    "    try:\n",
    "        # Initialize PyAudio\n",
    "        audio = pyaudio.PyAudio()\n",
    "\n",
    "        # Open stream\n",
    "        stream = audio.open(format=FORMAT, channels=CHANNELS,\n",
    "                            rate=RATE, input=True,\n",
    "                            frames_per_buffer=CHUNK)\n",
    "\n",
    "        print(\"Recording...\")\n",
    "\n",
    "        frames = []\n",
    "\n",
    "        while not stop_event.is_set():\n",
    "            data = stream.read(CHUNK)\n",
    "            frames.append(data)\n",
    "            audio_data = b''.join(frames)\n",
    "\n",
    "            # Save the recorded data as a WAV file\n",
    "            with wave.open(OUTPUT_FILENAME, 'wb') as wf:\n",
    "                wf.setnchannels(CHANNELS)\n",
    "                wf.setsampwidth(audio.get_sample_size(FORMAT))  # Use the PyAudio instance here\n",
    "                wf.setframerate(RATE)\n",
    "                wf.writeframes(audio_data)\n",
    "\n",
    "            with sr.AudioFile(OUTPUT_FILENAME) as source:\n",
    "                audio_recorded = r.record(source)  # Use a different variable name to avoid conflict\n",
    "\n",
    "                try:\n",
    "                    # Recognize the speech using Google Web Speech API\n",
    "                    text = r.recognize_google(audio_recorded)\n",
    "                    print(\"Transcription: \" + text)\n",
    "                    # Append the transcription to a text file\n",
    "                    with open(\"transcription.txt\", \"a\") as f:\n",
    "                        f.write(text + \"\\n\")\n",
    "\n",
    "                except sr.UnknownValueError:\n",
    "                    print(\"Google Speech Recognition could not understand the audio\")\n",
    "                except sr.RequestError as e:\n",
    "                    print(\"Could not request results from Google Speech Recognition service; {0}\".format(e))\n",
    "\n",
    "        # Stop and close the stream\n",
    "        stream.stop_stream()\n",
    "        stream.close()\n",
    "        audio.terminate()\n",
    "\n",
    "    except OSError as e:\n",
    "        print(f\"OSError encountered: {e}\")\n",
    "\n",
    "def signal_handler(sig, frame):\n",
    "    print(\"Interrupt received, stopping...\")\n",
    "    stop_event.set()\n",
    "    sys.exit(0)\n",
    "\n",
    "if __name__ == \"__main__\":\n",
    "    signal.signal(signal.SIGINT, signal_handler)\n",
    "    record_and_transcribe()\n"
   ]
  },
  {
   "cell_type": "code",
   "execution_count": null,
   "metadata": {},
   "outputs": [],
   "source": []
  }
 ],
 "metadata": {
  "kernelspec": {
   "display_name": ".venv",
   "language": "python",
   "name": "python3"
  },
  "language_info": {
   "codemirror_mode": {
    "name": "ipython",
    "version": 3
   },
   "file_extension": ".py",
   "mimetype": "text/x-python",
   "name": "python",
   "nbconvert_exporter": "python",
   "pygments_lexer": "ipython3",
   "version": "3.10.0"
  }
 },
 "nbformat": 4,
 "nbformat_minor": 2
}
