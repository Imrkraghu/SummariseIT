{
 "cells": [
  {
   "cell_type": "markdown",
   "metadata": {},
   "source": [
    "## Importing the neccessary libraries "
   ]
  },
  {
   "cell_type": "code",
   "execution_count": 16,
   "metadata": {},
   "outputs": [],
   "source": [
    "import speech_recognition as sr\n",
    "import pyttsx3"
   ]
  },
  {
   "cell_type": "markdown",
   "metadata": {},
   "source": [
    "### Initializing The Recognizer"
   ]
  },
  {
   "cell_type": "code",
   "execution_count": 17,
   "metadata": {},
   "outputs": [],
   "source": [
    "r = sr.Recognizer()"
   ]
  },
  {
   "cell_type": "markdown",
   "metadata": {},
   "source": [
    "## Now we are going to record the audio and convert this audio file into a text file"
   ]
  },
  {
   "cell_type": "code",
   "execution_count": 18,
   "metadata": {},
   "outputs": [
    {
     "name": "stdout",
     "output_type": "stream",
     "text": [
      "Recording...\n",
      "Recording finished.\n",
      "Audio recorded and saved as recorded_audio.wav\n",
      "Transcription: kya aap Humse Pyar Karte Hain DU u love MI no main tumse pyar nahin karta Nahin main tumse pyar nahin karta no\n"
     ]
    }
   ],
   "source": [
    "import pyaudio\n",
    "import wave\n",
    "\n",
    "# Parameters\n",
    "FORMAT = pyaudio.paInt16  # Audio format\n",
    "CHANNELS = 1  # Number of channels\n",
    "RATE = 44100  # Sample rate (Hz)\n",
    "CHUNK = 1024  # Chunk size (number of frames per buffer)\n",
    "RECORD_SECONDS = 10  # Duration of the recording (seconds)\n",
    "OUTPUT_FILENAME = \"recorded_audio.wav\"  # Output filename\n",
    "\n",
    "try:\n",
    "    # Initialize PyAudio\n",
    "    audio = pyaudio.PyAudio()\n",
    "\n",
    "    # Open stream\n",
    "    stream = audio.open(format=FORMAT, channels=CHANNELS,\n",
    "                        rate=RATE, input=True,\n",
    "                        frames_per_buffer=CHUNK)\n",
    "\n",
    "    print(\"Recording...\")\n",
    "\n",
    "    frames = []\n",
    "\n",
    "    # Record data\n",
    "    for i in range(0, int(RATE / CHUNK * RECORD_SECONDS)):\n",
    "        data = stream.read(CHUNK)\n",
    "        frames.append(data)\n",
    "\n",
    "    print(\"Recording finished.\")\n",
    "\n",
    "    # Stop and close the stream\n",
    "    stream.stop_stream()\n",
    "    stream.close()\n",
    "    audio.terminate()\n",
    "\n",
    "    # Save the recorded data as a WAV file\n",
    "    with wave.open(OUTPUT_FILENAME, 'wb') as wf:\n",
    "        wf.setnchannels(CHANNELS)\n",
    "        wf.setsampwidth(audio.get_sample_size(FORMAT))\n",
    "        wf.setframerate(RATE)\n",
    "        wf.writeframes(b''.join(frames))\n",
    "\n",
    "    print(f\"Audio recorded and saved as {OUTPUT_FILENAME}\")\n",
    "    with sr.AudioFile(OUTPUT_FILENAME) as source:\n",
    "        audio = r.record(source)  # Read the entire audio file\n",
    "\n",
    "        try:\n",
    "            # Recognize the speech using Google Web Speech API\n",
    "            text = r.recognize_google(audio)\n",
    "            print(\"Transcription: \" + text)\n",
    "            # Append the transcription to a text file\n",
    "            with open(\"transcription.txt\", \"a\") as f:\n",
    "                f.write(text + \"\\n\")\n",
    "            # Save the transcription to a text file\n",
    "            with open(\"transcription.txt\", \"w\") as f:\n",
    "                f.write(text)\n",
    "                \n",
    "        except sr.UnknownValueError:\n",
    "            print(\"Google Speech Recognition could not understand the audio\")\n",
    "        except sr.RequestError as e:\n",
    "            print(\"Could not request results from Google Speech Recognition service; {0}\".format(e))\n",
    "except OSError as e:\n",
    "    print(f\"OSError encountered: {e}\")"
   ]
  },
  {
   "cell_type": "markdown",
   "metadata": {},
   "source": [
    "## Checking Stop Words and removing them from the Transcription file"
   ]
  },
  {
   "cell_type": "markdown",
   "metadata": {},
   "source": [
    "## Tokenization"
   ]
  },
  {
   "cell_type": "markdown",
   "metadata": {},
   "source": [
    " This `tokenizer` divides a text into a list of sentences by using an unsupervised algorithm to build a model for abbreviation words, collocations, and words that start sentences. It must be trained on a large collection of plaintext in the target language before it can be used."
   ]
  },
  {
   "cell_type": "markdown",
   "metadata": {},
   "source": [
    " ` Stop Words` are commonly used word (such as “the”, “a”, “an”, or “in”) that a `Search Engine` has been programmed to ignore, both when indexing entries for searching and when retrieving them as the result of a search query. "
   ]
  },
  {
   "cell_type": "markdown",
   "metadata": {},
   "source": [
    "`Script` to extract the keywords from the transcription file"
   ]
  },
  {
   "cell_type": "code",
   "execution_count": 14,
   "metadata": {},
   "outputs": [
    {
     "name": "stderr",
     "output_type": "stream",
     "text": [
      "[nltk_data] Downloading package punkt_tab to\n",
      "[nltk_data]     C:\\Users\\Lenovo\\AppData\\Roaming\\nltk_data...\n",
      "[nltk_data]   Package punkt_tab is already up-to-date!\n",
      "[nltk_data] Downloading package stopwords to\n",
      "[nltk_data]     C:\\Users\\Lenovo\\AppData\\Roaming\\nltk_data...\n",
      "[nltk_data]   Package stopwords is already up-to-date!\n"
     ]
    },
    {
     "data": {
      "text/plain": [
       "True"
      ]
     },
     "execution_count": 14,
     "metadata": {},
     "output_type": "execute_result"
    }
   ],
   "source": [
    "import nltk\n",
    "nltk.download('punkt_tab')\n",
    "nltk.download('stopwords')"
   ]
  },
  {
   "cell_type": "code",
   "execution_count": 19,
   "metadata": {},
   "outputs": [
    {
     "name": "stdout",
     "output_type": "stream",
     "text": [
      "Top keywords:\n",
      "pyar: 3\n",
      "nahin: 3\n",
      "main: 2\n",
      "tumse: 2\n",
      "karta: 2\n",
      "kya: 1\n",
      "aap: 1\n",
      "humse: 1\n",
      "karte: 1\n",
      "hain: 1\n"
     ]
    }
   ],
   "source": [
    "import nltk\n",
    "from nltk.corpus import stopwords\n",
    "from nltk.tokenize import word_tokenize\n",
    "from collections import Counter\n",
    "\n",
    "# Read the text file\n",
    "with open(\"transcription.txt\", \"r\") as file:\n",
    "    text = file.read()\n",
    "\n",
    "# Tokenize the text\n",
    "words = word_tokenize(text)\n",
    "\n",
    "# Remove punctuation and make lowercase\n",
    "words = [word.lower() for word in words if word.isalnum()]\n",
    "\n",
    "# Remove stop words\n",
    "stop_words = set(stopwords.words(\"english\"))\n",
    "filtered_words = [word for word in words if word not in stop_words]\n",
    "\n",
    "# Count the frequency of each word\n",
    "word_freq = Counter(filtered_words)\n",
    "\n",
    "# Select the top N keywords (you can adjust N as needed)\n",
    "N = 10\n",
    "keywords = word_freq.most_common(N)\n",
    "\n",
    "# Print the keywords\n",
    "print(\"Top keywords:\")\n",
    "for keyword, freq in keywords:\n",
    "    print(f\"{keyword}: {freq}\")\n",
    "\n",
    "# Save the keywords to a text file\n",
    "with open(\"keywords.txt\", \"w\") as file:\n",
    "    for keyword, freq in keywords:\n",
    "        file.write(f\"{keyword}: {freq}\\n\")\n"
   ]
  },
  {
   "cell_type": "markdown",
   "metadata": {},
   "source": [
    "# Work for tommorow categories the keywords"
   ]
  },
  {
   "cell_type": "code",
   "execution_count": null,
   "metadata": {},
   "outputs": [],
   "source": [
    "# start here"
   ]
  },
  {
   "cell_type": "markdown",
   "metadata": {},
   "source": [
    "## Its used to generate dataset for training the module"
   ]
  },
  {
   "cell_type": "code",
   "execution_count": 27,
   "metadata": {},
   "outputs": [],
   "source": [
    "import csv\n",
    "import random\n",
    "\n",
    "# Generate random words\n",
    "def generate_word():\n",
    "    length = random.randint(3, 10)\n",
    "    return ''.join(random.choices(string.ascii_lowercase, k=length))\n",
    "\n",
    "# Define the number of categories and entries per category\n",
    "num_categories = 100\n",
    "entries_per_category = 10000\n",
    "\n",
    "# Create a list of unique words for each category (for simplicity, using a base list and ensuring no repetition)\n",
    "def generate_unique_words(base_list, num_entries):\n",
    "    return random.sample(base_list, num_entries)\n",
    "\n",
    "# Base word lists for different themes\n",
    "base_words_technology = ['Algorithm', 'Processor', 'Network', 'Software', 'Database', 'API', 'Cloud', 'AI', 'MachineLearning', 'BigData', 'Cybersecurity']\n",
    "base_words_physics = ['Quantum', 'Particle', 'Relativity', 'Force', 'Energy', 'Atom', 'Wave', 'Photon', 'Neutron', 'Electron']\n",
    "base_words_biology = ['Gene', 'Cell', 'Evolution', 'Ecosystem', 'Mutation', 'Protein', 'Enzyme', 'DNA', 'RNA', 'Genome']\n",
    "base_words_finance = ['Stock', 'Bond', 'Investment', 'Interest', 'Inflation', 'Market', 'Budget', 'Asset', 'Liability', 'Dividend']\n",
    "\n",
    "# Function to generate the dataset\n",
    "def generate_dataset(num_categories, entries_per_category):\n",
    "    with open('large_dataset.csv', 'w', newline='') as file:\n",
    "        writer = csv.writer(file)\n",
    "        # Generate header with category names\n",
    "        categories = [f'Category_{i+1}' for i in range(num_categories)]\n",
    "        writer.writerow(categories)\n",
    "        \n",
    "        # Generate rows with unique words for each category\n",
    "        for i in range(entries_per_category):\n",
    "            row = []\n",
    "            for category in categories:\n",
    "                # Use different base lists for variety\n",
    "                if 'Technology' in category:\n",
    "                    row.append(generate_unique_words(base_words_technology, entries_per_category)[i % len(base_words_technology)])\n",
    "                elif 'Physics' in category:\n",
    "                    row.append(generate_unique_words(base_words_physics, entries_per_category)[i % len(base_words_physics)])\n",
    "                elif 'Biology' in category:\n",
    "                    row.append(generate_unique_words(base_words_biology, entries_per_category)[i % len(base_words_biology)])\n",
    "                elif 'Finance' in category:\n",
    "                    row.append(generate_unique_words(base_words_finance, entries_per_category)[i % len(base_words_finance)])\n",
    "                else:\n",
    "                    row.append(f'Word_{i+1}')\n",
    "            writer.writerow(row)\n",
    "\n",
    "# Generate the large CSV file\n",
    "generate_dataset(num_categories, entries_per_category)\n"
   ]
  },
  {
   "cell_type": "code",
   "execution_count": null,
   "metadata": {},
   "outputs": [],
   "source": []
  }
 ],
 "metadata": {
  "kernelspec": {
   "display_name": ".venv",
   "language": "python",
   "name": "python3"
  },
  "language_info": {
   "codemirror_mode": {
    "name": "ipython",
    "version": 3
   },
   "file_extension": ".py",
   "mimetype": "text/x-python",
   "name": "python",
   "nbconvert_exporter": "python",
   "pygments_lexer": "ipython3",
   "version": "3.13.1"
  }
 },
 "nbformat": 4,
 "nbformat_minor": 2
}
